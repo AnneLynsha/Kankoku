{
 "cells": [
  {
   "cell_type": "code",
   "execution_count": 5,
   "metadata": {},
   "outputs": [],
   "source": [
    "import pandas as pd\n",
    "import numpy as np\n",
    "\n",
    "op_df = pd.read_csv(r'C:\\Users\\annie\\OneDrive\\Desktop\\R Directory\\CSV files\\anime.csv')\n"
   ]
  },
  {
   "cell_type": "code",
   "execution_count": 6,
   "metadata": {},
   "outputs": [
    {
     "name": "stdout",
     "output_type": "stream",
     "text": [
      "       anime_id                                               name  \\\n",
      "0         32281                                     Kimi no Na wa.   \n",
      "1          5114                   Fullmetal Alchemist: Brotherhood   \n",
      "2         28977                                           Gintama°   \n",
      "3          9253                                        Steins;Gate   \n",
      "4          9969                                      Gintama&#039;   \n",
      "...         ...                                                ...   \n",
      "12289      9316       Toushindai My Lover: Minami tai Mecha-Minami   \n",
      "12290      5543                                        Under World   \n",
      "12291      5621                     Violence Gekiga David no Hoshi   \n",
      "12292      6133  Violence Gekiga Shin David no Hoshi: Inma Dens...   \n",
      "12293     26081                   Yasuji no Pornorama: Yacchimae!!   \n",
      "\n",
      "                                                   genre   type episodes  \\\n",
      "0                   Drama, Romance, School, Supernatural  Movie        1   \n",
      "1      Action, Adventure, Drama, Fantasy, Magic, Mili...     TV       64   \n",
      "2      Action, Comedy, Historical, Parody, Samurai, S...     TV       51   \n",
      "3                                       Sci-Fi, Thriller     TV       24   \n",
      "4      Action, Comedy, Historical, Parody, Samurai, S...     TV       51   \n",
      "...                                                  ...    ...      ...   \n",
      "12289                                             Hentai    OVA        1   \n",
      "12290                                             Hentai    OVA        1   \n",
      "12291                                             Hentai    OVA        4   \n",
      "12292                                             Hentai    OVA        1   \n",
      "12293                                             Hentai  Movie        1   \n",
      "\n",
      "       rating  members  \n",
      "0        9.37   200630  \n",
      "1        9.26   793665  \n",
      "2        9.25   114262  \n",
      "3        9.17   673572  \n",
      "4        9.16   151266  \n",
      "...       ...      ...  \n",
      "12289    4.15      211  \n",
      "12290    4.28      183  \n",
      "12291    4.88      219  \n",
      "12292    4.98      175  \n",
      "12293    5.46      142  \n",
      "\n",
      "[12294 rows x 7 columns]\n"
     ]
    }
   ],
   "source": [
    "print(op_df)"
   ]
  },
  {
   "cell_type": "code",
   "execution_count": 7,
   "metadata": {},
   "outputs": [
    {
     "name": "stdout",
     "output_type": "stream",
     "text": [
      "<class 'pandas.core.frame.DataFrame'>\n",
      "RangeIndex: 12294 entries, 0 to 12293\n",
      "Data columns (total 7 columns):\n",
      " #   Column    Non-Null Count  Dtype  \n",
      "---  ------    --------------  -----  \n",
      " 0   anime_id  12294 non-null  int64  \n",
      " 1   name      12294 non-null  object \n",
      " 2   genre     12232 non-null  object \n",
      " 3   type      12269 non-null  object \n",
      " 4   episodes  12294 non-null  object \n",
      " 5   rating    12064 non-null  float64\n",
      " 6   members   12294 non-null  int64  \n",
      "dtypes: float64(1), int64(2), object(4)\n",
      "memory usage: 672.5+ KB\n"
     ]
    }
   ],
   "source": [
    "op_df.info()"
   ]
  },
  {
   "cell_type": "code",
   "execution_count": 116,
   "metadata": {},
   "outputs": [],
   "source": [
    "op_df_members = op_df[(op_df['members'] >=300000)]"
   ]
  },
  {
   "cell_type": "code",
   "execution_count": 117,
   "metadata": {},
   "outputs": [
    {
     "name": "stdout",
     "output_type": "stream",
     "text": [
      "      anime_id                                         name  \\\n",
      "1         5114             Fullmetal Alchemist: Brotherhood   \n",
      "3         9253                                  Steins;Gate   \n",
      "6        11061                       Hunter x Hunter (2011)   \n",
      "10        4181                         Clannad: After Story   \n",
      "12         918                                      Gintama   \n",
      "...        ...                                          ...   \n",
      "1598      8769  Ore no Imouto ga Konnani Kawaii Wake ga Nai   \n",
      "1620      6880                           Deadman Wonderland   \n",
      "1709      8074                       Highschool of the Dead   \n",
      "1779     20787                                 Black Bullet   \n",
      "2132     21881                          Sword Art Online II   \n",
      "\n",
      "                                                  genre type episodes  rating  \\\n",
      "1     Action, Adventure, Drama, Fantasy, Magic, Mili...   TV       64    9.26   \n",
      "3                                      Sci-Fi, Thriller   TV       24    9.17   \n",
      "6               Action, Adventure, Shounen, Super Power   TV      148    9.13   \n",
      "10    Drama, Fantasy, Romance, Slice of Life, Supern...   TV       24    9.06   \n",
      "12    Action, Comedy, Historical, Parody, Samurai, S...   TV      201    9.04   \n",
      "...                                                 ...  ...      ...     ...   \n",
      "1598                      Comedy, Seinen, Slice of Life   TV       12    7.49   \n",
      "1620                             Action, Horror, Sci-Fi   TV       12    7.48   \n",
      "1709                Action, Ecchi, Horror, Supernatural   TV       12    7.46   \n",
      "1779                    Action, Mystery, Sci-Fi, Seinen   TV       13    7.44   \n",
      "2132          Action, Adventure, Fantasy, Game, Romance   TV       24    7.35   \n",
      "\n",
      "      members  \n",
      "1      793665  \n",
      "3      673572  \n",
      "6      425855  \n",
      "10     456749  \n",
      "12     336376  \n",
      "...       ...  \n",
      "1598   321477  \n",
      "1620   453454  \n",
      "1709   535892  \n",
      "1779   320267  \n",
      "2132   537892  \n",
      "\n",
      "[103 rows x 7 columns]\n"
     ]
    }
   ],
   "source": [
    "print(op_df_members)"
   ]
  },
  {
   "cell_type": "code",
   "execution_count": 118,
   "metadata": {
    "scrolled": true
   },
   "outputs": [
    {
     "name": "stdout",
     "output_type": "stream",
     "text": [
      "<class 'pandas.core.frame.DataFrame'>\n",
      "Int64Index: 103 entries, 1 to 2132\n",
      "Data columns (total 7 columns):\n",
      " #   Column    Non-Null Count  Dtype  \n",
      "---  ------    --------------  -----  \n",
      " 0   anime_id  103 non-null    int64  \n",
      " 1   name      103 non-null    object \n",
      " 2   genre     103 non-null    object \n",
      " 3   type      103 non-null    object \n",
      " 4   episodes  103 non-null    object \n",
      " 5   rating    103 non-null    float64\n",
      " 6   members   103 non-null    int64  \n",
      "dtypes: float64(1), int64(2), object(4)\n",
      "memory usage: 6.4+ KB\n"
     ]
    }
   ],
   "source": [
    "op_df_members.info()"
   ]
  },
  {
   "cell_type": "code",
   "execution_count": 119,
   "metadata": {},
   "outputs": [
    {
     "data": {
      "text/html": [
       "<div>\n",
       "<style scoped>\n",
       "    .dataframe tbody tr th:only-of-type {\n",
       "        vertical-align: middle;\n",
       "    }\n",
       "\n",
       "    .dataframe tbody tr th {\n",
       "        vertical-align: top;\n",
       "    }\n",
       "\n",
       "    .dataframe thead th {\n",
       "        text-align: right;\n",
       "    }\n",
       "</style>\n",
       "<table border=\"1\" class=\"dataframe\">\n",
       "  <thead>\n",
       "    <tr style=\"text-align: right;\">\n",
       "      <th></th>\n",
       "      <th>anime_id</th>\n",
       "      <th>rating</th>\n",
       "      <th>members</th>\n",
       "    </tr>\n",
       "  </thead>\n",
       "  <tbody>\n",
       "    <tr>\n",
       "      <th>count</th>\n",
       "      <td>103.000000</td>\n",
       "      <td>103.000000</td>\n",
       "      <td>1.030000e+02</td>\n",
       "    </tr>\n",
       "    <tr>\n",
       "      <th>mean</th>\n",
       "      <td>10065.213592</td>\n",
       "      <td>8.216990</td>\n",
       "      <td>4.488374e+05</td>\n",
       "    </tr>\n",
       "    <tr>\n",
       "      <th>std</th>\n",
       "      <td>9247.482763</td>\n",
       "      <td>0.443606</td>\n",
       "      <td>1.437565e+05</td>\n",
       "    </tr>\n",
       "    <tr>\n",
       "      <th>min</th>\n",
       "      <td>1.000000</td>\n",
       "      <td>7.350000</td>\n",
       "      <td>3.000300e+05</td>\n",
       "    </tr>\n",
       "    <tr>\n",
       "      <th>25%</th>\n",
       "      <td>1632.000000</td>\n",
       "      <td>7.880000</td>\n",
       "      <td>3.363625e+05</td>\n",
       "    </tr>\n",
       "    <tr>\n",
       "      <th>50%</th>\n",
       "      <td>8074.000000</td>\n",
       "      <td>8.200000</td>\n",
       "      <td>4.023810e+05</td>\n",
       "    </tr>\n",
       "    <tr>\n",
       "      <th>75%</th>\n",
       "      <td>15696.000000</td>\n",
       "      <td>8.510000</td>\n",
       "      <td>5.341175e+05</td>\n",
       "    </tr>\n",
       "    <tr>\n",
       "      <th>max</th>\n",
       "      <td>31240.000000</td>\n",
       "      <td>9.260000</td>\n",
       "      <td>1.013917e+06</td>\n",
       "    </tr>\n",
       "  </tbody>\n",
       "</table>\n",
       "</div>"
      ],
      "text/plain": [
       "           anime_id      rating       members\n",
       "count    103.000000  103.000000  1.030000e+02\n",
       "mean   10065.213592    8.216990  4.488374e+05\n",
       "std     9247.482763    0.443606  1.437565e+05\n",
       "min        1.000000    7.350000  3.000300e+05\n",
       "25%     1632.000000    7.880000  3.363625e+05\n",
       "50%     8074.000000    8.200000  4.023810e+05\n",
       "75%    15696.000000    8.510000  5.341175e+05\n",
       "max    31240.000000    9.260000  1.013917e+06"
      ]
     },
     "execution_count": 119,
     "metadata": {},
     "output_type": "execute_result"
    }
   ],
   "source": [
    "op_df_members.describe()"
   ]
  },
  {
   "cell_type": "code",
   "execution_count": 120,
   "metadata": {},
   "outputs": [],
   "source": [
    "df_highrate = op_df_members[op_df_members['rating']>= 9]"
   ]
  },
  {
   "cell_type": "code",
   "execution_count": 121,
   "metadata": {},
   "outputs": [
    {
     "name": "stdout",
     "output_type": "stream",
     "text": [
      "    anime_id                              name  \\\n",
      "1       5114  Fullmetal Alchemist: Brotherhood   \n",
      "3       9253                       Steins;Gate   \n",
      "6      11061            Hunter x Hunter (2011)   \n",
      "10      4181              Clannad: After Story   \n",
      "12       918                           Gintama   \n",
      "\n",
      "                                                genre type episodes  rating  \\\n",
      "1   Action, Adventure, Drama, Fantasy, Magic, Mili...   TV       64    9.26   \n",
      "3                                    Sci-Fi, Thriller   TV       24    9.17   \n",
      "6             Action, Adventure, Shounen, Super Power   TV      148    9.13   \n",
      "10  Drama, Fantasy, Romance, Slice of Life, Supern...   TV       24    9.06   \n",
      "12  Action, Comedy, Historical, Parody, Samurai, S...   TV      201    9.04   \n",
      "\n",
      "    members  \n",
      "1    793665  \n",
      "3    673572  \n",
      "6    425855  \n",
      "10   456749  \n",
      "12   336376  \n"
     ]
    }
   ],
   "source": [
    "print(df_highrate)"
   ]
  },
  {
   "cell_type": "code",
   "execution_count": 122,
   "metadata": {},
   "outputs": [],
   "source": [
    "df_test = ['name','rating']"
   ]
  },
  {
   "cell_type": "code",
   "execution_count": 123,
   "metadata": {},
   "outputs": [
    {
     "name": "stdout",
     "output_type": "stream",
     "text": [
      "    anime_id                              name  \\\n",
      "1       5114  Fullmetal Alchemist: Brotherhood   \n",
      "3       9253                       Steins;Gate   \n",
      "6      11061            Hunter x Hunter (2011)   \n",
      "10      4181              Clannad: After Story   \n",
      "12       918                           Gintama   \n",
      "\n",
      "                                                genre type episodes  rating  \\\n",
      "1   Action, Adventure, Drama, Fantasy, Magic, Mili...   TV       64    9.26   \n",
      "3                                    Sci-Fi, Thriller   TV       24    9.17   \n",
      "6             Action, Adventure, Shounen, Super Power   TV      148    9.13   \n",
      "10  Drama, Fantasy, Romance, Slice of Life, Supern...   TV       24    9.06   \n",
      "12  Action, Comedy, Historical, Parody, Samurai, S...   TV      201    9.04   \n",
      "\n",
      "    members  \n",
      "1    793665  \n",
      "3    673572  \n",
      "6    425855  \n",
      "10   456749  \n",
      "12   336376  \n"
     ]
    }
   ],
   "source": [
    "df_test1 = pd.DataFrame(df_highrate)\n",
    "print(df_test1)"
   ]
  },
  {
   "cell_type": "code",
   "execution_count": 124,
   "metadata": {},
   "outputs": [
    {
     "name": "stdout",
     "output_type": "stream",
     "text": [
      "                                name  rating\n",
      "1   Fullmetal Alchemist: Brotherhood    9.26\n",
      "3                        Steins;Gate    9.17\n",
      "6             Hunter x Hunter (2011)    9.13\n",
      "10              Clannad: After Story    9.06\n",
      "12                           Gintama    9.04\n"
     ]
    }
   ],
   "source": [
    "rating = df_test1[['name','rating']]\n",
    "print(rating)"
   ]
  },
  {
   "cell_type": "code",
   "execution_count": 125,
   "metadata": {},
   "outputs": [
    {
     "data": {
      "text/plain": [
       "<AxesSubplot:ylabel='name'>"
      ]
     },
     "execution_count": 125,
     "metadata": {},
     "output_type": "execute_result"
    },
    {
     "data": {
      "image/png": "[encoded data removed]",
      "text/plain": [
       "<Figure size 432x288 with 1 Axes>"
      ]
     },
     "metadata": {
      "needs_background": "light"
     },
     "output_type": "display_data"
    }
   ],
   "source": [
    "type(rating)\n",
    "rating.plot(kind='barh',x=\"name\",y=\"rating\",xlim=(7,10))\n"
   ]
  }
 ],
 "metadata": {
  "kernelspec": {
   "display_name": "Python 3",
   "language": "python",
   "name": "python3"
  },
  "language_info": {
   "codemirror_mode": {
    "name": "ipython",
    "version": 3
   },
   "file_extension": ".py",
   "mimetype": "text/x-python",
   "name": "python",
   "nbconvert_exporter": "python",
   "pygments_lexer": "ipython3",
   "version": "3.8.8"
  }
 },
 "nbformat": 4,
 "nbformat_minor": 2
}
